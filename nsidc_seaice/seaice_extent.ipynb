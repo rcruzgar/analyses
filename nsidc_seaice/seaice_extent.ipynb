{
 "cells": [
  {
   "cell_type": "code",
   "execution_count": 6,
   "metadata": {},
   "outputs": [
    {
     "ename": "ERROR",
     "evalue": "Error in library(magick): there is no package called ‘magick’\n",
     "output_type": "error",
     "traceback": [
      "Error in library(magick): there is no package called ‘magick’\nTraceback:\n",
      "1. library(magick)",
      "2. stop(txt, domain = NA)"
     ]
    }
   ],
   "source": [
    "library(dplyr)\n",
    "library(lubridate)\n",
    "library('ggplot2') \n",
    "library('ggthemes') \n",
    "library(magick)\n",
    "library(grid)"
   ]
  },
  {
   "cell_type": "code",
   "execution_count": null,
   "metadata": {},
   "outputs": [],
   "source": [
    "# Load Arctic Sea Ice Extent data\n",
    "# Source: ftp://sidads.colorado.edu/DATASETS/NOAA/G02135/north/daily/data/N_seaice_extent_daily_v3.0.csv\n",
    "# Downloaded on 22nd May 2020 (last day of the dataset)\n",
    "seaice_N = read.csv(\"../data/N_seaice_extent_daily_v3.0.csv\", stringsAsFactors=FALSE)\n",
    "\n",
    "# Have a look at the table\n",
    "head(seaice_N)  \n",
    "tail(seaice_N)"
   ]
  },
  {
   "cell_type": "code",
   "execution_count": null,
   "metadata": {},
   "outputs": [],
   "source": [
    "# Convert factors into integers\n",
    "seaice_N$Year = as.integer(seaice_N$Year)\n",
    "seaice_N$Month = as.integer(seaice_N$Month)\n",
    "seaice_N$Day = as.integer(seaice_N$Day)\n",
    "\n",
    "# Convert the Sea Ice Extent into numeric class\n",
    "seaice_N$Extent = as.numeric(seaice_N$Extent)\n",
    "seaice_N$Missing = as.numeric(seaice_N$Missing)"
   ]
  },
  {
   "cell_type": "code",
   "execution_count": null,
   "metadata": {},
   "outputs": [],
   "source": [
    "# No missing values in the extent series\n",
    "sum(is.na(seaice_N$Extent)) "
   ]
  },
  {
   "cell_type": "code",
   "execution_count": null,
   "metadata": {},
   "outputs": [],
   "source": [
    "seaice_N = seaice_N %>%\n",
    "  select(-Source.Data, -Missing) %>% # Remove Source.Data and Missing columns\n",
    "  mutate(Date = ymd(paste(Year, Month, Day, sep = \"-\"))) # Create Date column\n",
    "\n",
    "ice = seaice_N %>%\n",
    "  group_by(Year,Month) %>%\n",
    "  summarize(avg_extent=mean(Extent)) "
   ]
  },
  {
   "cell_type": "code",
   "execution_count": null,
   "metadata": {},
   "outputs": [],
   "source": [
    "# Plotting all months doesn't provide any information\n",
    "plot(1:500, ice$avg_extent, type = 'l', col='blue')"
   ]
  },
  {
   "cell_type": "code",
   "execution_count": null,
   "metadata": {},
   "outputs": [],
   "source": [
    "# To make the annual mean, remove the incomplete years\n",
    "# That's the months of 1978 and 2020\n",
    "annual_mean = ice[-c(1, 2, 3, 496, 497, 498, 499, 500),]\n",
    "\n",
    "annual_mean = annual_mean %>%\n",
    "  group_by(Year) %>%\n",
    "  summarize(annual_extent=mean(avg_extent))"
   ]
  },
  {
   "cell_type": "code",
   "execution_count": null,
   "metadata": {},
   "outputs": [],
   "source": [
    "# Plot the annual mean time series\n",
    "ggplot(annual_mean, aes(Year, annual_extent)) + labs(x='Years', y='Million sq Km') +\n",
    "  geom_line(size=2, color = 'darkblue') + \n",
    "  labs(title=\"Annual Arctic Sea Ice Extent mean\", fill=\"e\")  +\n",
    "  theme_gray(base_size = 18, base_family = \"Times\") +\n",
    "  geom_smooth(method = \"lm\", se = FALSE, color='orange')"
   ]
  },
  {
   "cell_type": "code",
   "execution_count": null,
   "metadata": {},
   "outputs": [],
   "source": [
    "# Annual Minimum Sea Ice Extent (September)\n",
    "ice_september = ice[seq(12,500,12),]"
   ]
  },
  {
   "cell_type": "code",
   "execution_count": null,
   "metadata": {},
   "outputs": [],
   "source": [
    "# Load the Sea Ice Concentration maps. Let's add them to the figure\n",
    "# Source: \"ftp://sidads.colorado.edu/DATASETS/NOAA/G02135/north/monthly/images/09_Sep/N_201209_conc_blmrbl_v3.0.png\"\n",
    "sic_sep12 = image_read(paste(\"../data/N_201209_conc_blmrbl_v3.0.png\", sep=''))\n",
    "sic_sep80 = image_read(paste(\"../data/N_198009_conc_blmrbl_v3.0.png\", sep=''))\n",
    "\n",
    "# Transform into graphic object\n",
    "g_12 =  rasterGrob(sic_sep12, interpolate=FALSE)\n",
    "g_80 =  rasterGrob(sic_sep80, interpolate=FALSE)"
   ]
  },
  {
   "cell_type": "code",
   "execution_count": null,
   "metadata": {},
   "outputs": [],
   "source": [
    "# The plot\n",
    "ggplot(ice_september, aes(Year, avg_extent)) + labs(x='Years', y='Million sq Km') +\n",
    "  geom_line(size=2, color = 'darkgreen') + \n",
    "  labs(title=\"September Arctic Sea Ice Extent\", fill=\"e\")  +\n",
    "  theme_gray(base_size = 18, base_family = \"Times\") +\n",
    "  geom_smooth(method = \"lm\", se = FALSE, color='orange') +\n",
    "  annotation_custom(grob=g_12, xmin=1986, xmax=2006, ymin=2, ymax=5.5) +\n",
    "  annotation_custom(grob=g_80, xmin=1971, xmax=1991, ymin=2, ymax=5.5) +\n",
    "  geom_point(aes(x=1980, y=as.numeric(ice_september[2,3])), colour=\"green3\",\n",
    "             fill=\"green3\", shape=21, size=5) +\n",
    "  geom_point(aes(x=2012, y=as.numeric(ice_september[34,3])), colour=\"red3\",\n",
    "             fill=\"red3\", shape=21, size=5) +\n",
    "  annotate(geom=\"text\", x=1982, y=5.5, label=\"1980\",\n",
    "           color=\"green3\", size = 5) +\n",
    "  annotate(geom=\"text\", x=1997, y=5.5, label=\"2012\",\n",
    "           color=\"red3\", size = 5, font=2) "
   ]
  }
 ],
 "metadata": {
  "kernelspec": {
   "display_name": "R",
   "language": "R",
   "name": "ir"
  },
  "language_info": {
   "codemirror_mode": "r",
   "file_extension": ".r",
   "mimetype": "text/x-r-source",
   "name": "R",
   "pygments_lexer": "r",
   "version": "3.4.4"
  }
 },
 "nbformat": 4,
 "nbformat_minor": 2
}
