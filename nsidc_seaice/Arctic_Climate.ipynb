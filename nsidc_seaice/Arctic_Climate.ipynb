{
  "nbformat": 4,
  "nbformat_minor": 0,
  "metadata": {
    "colab": {
      "name": "Arctic Climate.ipynb",
      "provenance": [],
      "collapsed_sections": []
    },
    "kernelspec": {
      "name": "python3",
      "display_name": "Python 3"
    }
  },
  "cells": [
    {
      "cell_type": "code",
      "metadata": {
        "id": "PVv33AS6ZyKh",
        "colab_type": "code",
        "colab": {
          "base_uri": "https://localhost:8080/",
          "height": 51
        },
        "outputId": "12d272dc-6cb0-4f0f-aacc-70fc8ef6151c"
      },
      "source": [
        "import pandas as pd\n",
        "import numpy as np\n",
        "import matplotlib.pyplot as plt\n",
        "import seaborn as sns\n",
        "import calendar\n",
        "%matplotlib inline"
      ],
      "execution_count": null,
      "outputs": [
        {
          "output_type": "stream",
          "text": [
            "/usr/local/lib/python3.6/dist-packages/statsmodels/tools/_testing.py:19: FutureWarning: pandas.util.testing is deprecated. Use the functions in the public API at pandas.testing instead.\n",
            "  import pandas.util.testing as tm\n"
          ],
          "name": "stderr"
        }
      ]
    },
    {
      "cell_type": "code",
      "metadata": {
        "id": "ygWRg0cseTli",
        "colab_type": "code",
        "colab": {
          "base_uri": "https://localhost:8080/",
          "height": 235
        },
        "outputId": "22e62d13-fced-45e0-c823-fccad8ab964f"
      },
      "source": [
        "# Daily Sea Ice Extent\n",
        "# Source: ftp://sidads.colorado.edu/DATASETS/NOAA/G02135/north/daily/data/\n",
        "\n",
        "df = pd.read_csv('N_seaice_extent_daily_v3.0.csv', usecols=range(4), skiprows=0) # Start Nov 1st 1978\n",
        "\n",
        "df_copy = df.copy()\n",
        "df = df.iloc[4:]\n",
        "df = df.astype(float)\n",
        "\n",
        "# Remove blank spaces in column titles\n",
        "df.columns = df.columns.to_series().apply(lambda x: x.strip()) \n",
        "df['Date'] = pd.to_datetime(df[['Year', 'Month', 'Day']])\n",
        "\n",
        "g = df.groupby(['Year', 'Month'])\n",
        "df = df.set_index(['Date'])\n",
        "\n",
        "# Monthly Mean\n",
        "df.resample('M').mean()\n",
        "\n",
        "df.head()"
      ],
      "execution_count": null,
      "outputs": [
        {
          "output_type": "execute_result",
          "data": {
            "text/html": [
              "<div>\n",
              "<style scoped>\n",
              "    .dataframe tbody tr th:only-of-type {\n",
              "        vertical-align: middle;\n",
              "    }\n",
              "\n",
              "    .dataframe tbody tr th {\n",
              "        vertical-align: top;\n",
              "    }\n",
              "\n",
              "    .dataframe thead th {\n",
              "        text-align: right;\n",
              "    }\n",
              "</style>\n",
              "<table border=\"1\" class=\"dataframe\">\n",
              "  <thead>\n",
              "    <tr style=\"text-align: right;\">\n",
              "      <th></th>\n",
              "      <th>Year</th>\n",
              "      <th>Month</th>\n",
              "      <th>Day</th>\n",
              "      <th>Extent</th>\n",
              "    </tr>\n",
              "    <tr>\n",
              "      <th>Date</th>\n",
              "      <th></th>\n",
              "      <th></th>\n",
              "      <th></th>\n",
              "      <th></th>\n",
              "    </tr>\n",
              "  </thead>\n",
              "  <tbody>\n",
              "    <tr>\n",
              "      <th>1978-11-01</th>\n",
              "      <td>1978.0</td>\n",
              "      <td>11.0</td>\n",
              "      <td>1.0</td>\n",
              "      <td>10.670</td>\n",
              "    </tr>\n",
              "    <tr>\n",
              "      <th>1978-11-03</th>\n",
              "      <td>1978.0</td>\n",
              "      <td>11.0</td>\n",
              "      <td>3.0</td>\n",
              "      <td>10.777</td>\n",
              "    </tr>\n",
              "    <tr>\n",
              "      <th>1978-11-05</th>\n",
              "      <td>1978.0</td>\n",
              "      <td>11.0</td>\n",
              "      <td>5.0</td>\n",
              "      <td>10.968</td>\n",
              "    </tr>\n",
              "    <tr>\n",
              "      <th>1978-11-07</th>\n",
              "      <td>1978.0</td>\n",
              "      <td>11.0</td>\n",
              "      <td>7.0</td>\n",
              "      <td>11.080</td>\n",
              "    </tr>\n",
              "    <tr>\n",
              "      <th>1978-11-09</th>\n",
              "      <td>1978.0</td>\n",
              "      <td>11.0</td>\n",
              "      <td>9.0</td>\n",
              "      <td>11.189</td>\n",
              "    </tr>\n",
              "  </tbody>\n",
              "</table>\n",
              "</div>"
            ],
            "text/plain": [
              "              Year  Month  Day  Extent\n",
              "Date                                  \n",
              "1978-11-01  1978.0   11.0  1.0  10.670\n",
              "1978-11-03  1978.0   11.0  3.0  10.777\n",
              "1978-11-05  1978.0   11.0  5.0  10.968\n",
              "1978-11-07  1978.0   11.0  7.0  11.080\n",
              "1978-11-09  1978.0   11.0  9.0  11.189"
            ]
          },
          "metadata": {
            "tags": []
          },
          "execution_count": 2
        }
      ]
    },
    {
      "cell_type": "code",
      "metadata": {
        "id": "Bio4jMG46hoV",
        "colab_type": "code",
        "colab": {
          "base_uri": "https://localhost:8080/",
          "height": 204
        },
        "outputId": "1a571085-617b-48ff-cfe9-11fe0cbe3c86"
      },
      "source": [
        "month_lst = []\n",
        "for m in range(1,13):\n",
        "    month_lst.append(calendar.month_abbr[m])\n",
        "\n",
        "years = df_copy.iloc[1:]['Year'].unique().tolist()\n",
        "table_mon = df.pivot_table(values='Extent', index='Year', columns='Month') \n",
        "\n",
        "table_mon.columns = month_lst\n",
        "table_mon.index = years\n",
        "table_mon.head()"
      ],
      "execution_count": null,
      "outputs": [
        {
          "output_type": "execute_result",
          "data": {
            "text/html": [
              "<div>\n",
              "<style scoped>\n",
              "    .dataframe tbody tr th:only-of-type {\n",
              "        vertical-align: middle;\n",
              "    }\n",
              "\n",
              "    .dataframe tbody tr th {\n",
              "        vertical-align: top;\n",
              "    }\n",
              "\n",
              "    .dataframe thead th {\n",
              "        text-align: right;\n",
              "    }\n",
              "</style>\n",
              "<table border=\"1\" class=\"dataframe\">\n",
              "  <thead>\n",
              "    <tr style=\"text-align: right;\">\n",
              "      <th></th>\n",
              "      <th>Jan</th>\n",
              "      <th>Feb</th>\n",
              "      <th>Mar</th>\n",
              "      <th>Apr</th>\n",
              "      <th>May</th>\n",
              "      <th>Jun</th>\n",
              "      <th>Jul</th>\n",
              "      <th>Aug</th>\n",
              "      <th>Sep</th>\n",
              "      <th>Oct</th>\n",
              "      <th>Nov</th>\n",
              "      <th>Dec</th>\n",
              "    </tr>\n",
              "  </thead>\n",
              "  <tbody>\n",
              "    <tr>\n",
              "      <th>1978</th>\n",
              "      <td>NaN</td>\n",
              "      <td>NaN</td>\n",
              "      <td>NaN</td>\n",
              "      <td>NaN</td>\n",
              "      <td>NaN</td>\n",
              "      <td>NaN</td>\n",
              "      <td>NaN</td>\n",
              "      <td>NaN</td>\n",
              "      <td>NaN</td>\n",
              "      <td>NaN</td>\n",
              "      <td>11.645133</td>\n",
              "      <td>13.667063</td>\n",
              "    </tr>\n",
              "    <tr>\n",
              "      <th>1979</th>\n",
              "      <td>15.414000</td>\n",
              "      <td>16.175286</td>\n",
              "      <td>16.341938</td>\n",
              "      <td>15.446800</td>\n",
              "      <td>13.856867</td>\n",
              "      <td>12.530000</td>\n",
              "      <td>10.311250</td>\n",
              "      <td>8.041067</td>\n",
              "      <td>7.051133</td>\n",
              "      <td>8.747938</td>\n",
              "      <td>10.943067</td>\n",
              "      <td>13.336267</td>\n",
              "    </tr>\n",
              "    <tr>\n",
              "      <th>1980</th>\n",
              "      <td>14.861875</td>\n",
              "      <td>15.955143</td>\n",
              "      <td>16.041312</td>\n",
              "      <td>15.429067</td>\n",
              "      <td>13.792600</td>\n",
              "      <td>12.204600</td>\n",
              "      <td>10.100062</td>\n",
              "      <td>7.984267</td>\n",
              "      <td>7.667067</td>\n",
              "      <td>9.182750</td>\n",
              "      <td>11.382867</td>\n",
              "      <td>13.592933</td>\n",
              "    </tr>\n",
              "    <tr>\n",
              "      <th>1981</th>\n",
              "      <td>14.909688</td>\n",
              "      <td>15.604071</td>\n",
              "      <td>15.631533</td>\n",
              "      <td>15.009933</td>\n",
              "      <td>13.801625</td>\n",
              "      <td>12.429733</td>\n",
              "      <td>10.271000</td>\n",
              "      <td>7.844313</td>\n",
              "      <td>7.138467</td>\n",
              "      <td>8.856267</td>\n",
              "      <td>10.929000</td>\n",
              "      <td>13.341125</td>\n",
              "    </tr>\n",
              "    <tr>\n",
              "      <th>1982</th>\n",
              "      <td>15.176733</td>\n",
              "      <td>15.973500</td>\n",
              "      <td>16.043875</td>\n",
              "      <td>15.466000</td>\n",
              "      <td>13.973200</td>\n",
              "      <td>12.476067</td>\n",
              "      <td>10.367063</td>\n",
              "      <td>8.139533</td>\n",
              "      <td>7.301733</td>\n",
              "      <td>9.421062</td>\n",
              "      <td>11.627467</td>\n",
              "      <td>13.641800</td>\n",
              "    </tr>\n",
              "  </tbody>\n",
              "</table>\n",
              "</div>"
            ],
            "text/plain": [
              "            Jan        Feb        Mar  ...       Oct        Nov        Dec\n",
              "1978        NaN        NaN        NaN  ...       NaN  11.645133  13.667063\n",
              "1979  15.414000  16.175286  16.341938  ...  8.747938  10.943067  13.336267\n",
              "1980  14.861875  15.955143  16.041312  ...  9.182750  11.382867  13.592933\n",
              "1981  14.909688  15.604071  15.631533  ...  8.856267  10.929000  13.341125\n",
              "1982  15.176733  15.973500  16.043875  ...  9.421062  11.627467  13.641800\n",
              "\n",
              "[5 rows x 12 columns]"
            ]
          },
          "metadata": {
            "tags": []
          },
          "execution_count": 3
        }
      ]
    },
    {
      "cell_type": "code",
      "metadata": {
        "id": "ew0BKFpR4g3i",
        "colab_type": "code",
        "colab": {
          "base_uri": "https://localhost:8080/",
          "height": 320
        },
        "outputId": "53180ba1-28f3-4583-9962-0773d39472cc"
      },
      "source": [
        "sns.heatmap(table_mon, annot=False, cmap='Blues', cbar_kws={'label': 'Million sq km'})\n",
        "plt.title('Arctic Sea Ice Extent', fontsize = 18)\n",
        "plt.xlabel('Months', fontsize = 14) \n",
        "plt.ylabel('Years', fontsize = 14) "
      ],
      "execution_count": null,
      "outputs": [
        {
          "output_type": "execute_result",
          "data": {
            "text/plain": [
              "Text(33.0, 0.5, 'Years')"
            ]
          },
          "metadata": {
            "tags": []
          },
          "execution_count": 4
        },
        {
          "output_type": "display_data",
          "data": {
            "image/png": "[encoded data removed]",
            "text/plain": [
              "<Figure size 432x288 with 2 Axes>"
            ]
          },
          "metadata": {
            "tags": [],
            "needs_background": "light"
          }
        }
      ]
    },
    {
      "cell_type": "code",
      "metadata": {
        "id": "LBRAOymh4g-a",
        "colab_type": "code",
        "colab": {
          "base_uri": "https://localhost:8080/",
          "height": 320
        },
        "outputId": "dec0c629-b576-432b-bbf6-62465061d64d"
      },
      "source": [
        "# Mean over 1981-2010 (NSIDC baseline period; check why: https://www.climate.gov/news-features/understanding-climate/2013-arctic-sea-ice-minimum-compared-new-normal )\n",
        "table_mean = table_mon[3:33].mean(axis=0)\n",
        "\n",
        "new = pd.DataFrame(columns=month_lst)\n",
        "new.loc[0] = table_mean\n",
        "\n",
        "# new.iloc[np.arange(len(new)).repeat(len(years)-1)] #Repeat 43 times\n",
        "anomalies = table_mon.values - new.values\n",
        "\n",
        "plot_ = sns.heatmap(anomalies, annot=False, cmap='RdBu', cbar_kws={'label': 'Million sq km'},\n",
        "            xticklabels=month_lst, yticklabels = years, center=0, vmin=-3, vmax=3)\n",
        "\n",
        "for ind, label in enumerate(plot_.get_yticklabels()):\n",
        "    if ind % 3 == 0:  # every 3th label is kept\n",
        "        label.set_visible(True)\n",
        "    else:\n",
        "        label.set_visible(False)\n",
        "\n",
        "plt.title('Arctic Sea Ice Extent Anomalies', fontsize = 18)\n",
        "plt.xlabel('Months', fontsize = 14) \n",
        "plt.ylabel('Years', fontsize = 14) "
      ],
      "execution_count": null,
      "outputs": [
        {
          "output_type": "execute_result",
          "data": {
            "text/plain": [
              "Text(33.0, 0.5, 'Years')"
            ]
          },
          "metadata": {
            "tags": []
          },
          "execution_count": 5
        },
        {
          "output_type": "display_data",
          "data": {
            "image/png": "[encoded data removed]",
            "text/plain": [
              "<Figure size 432x288 with 2 Axes>"
            ]
          },
          "metadata": {
            "tags": [],
            "needs_background": "light"
          }
        }
      ]
    },
    {
      "cell_type": "code",
      "metadata": {
        "id": "VLEIQS8ASmbE",
        "colab_type": "code",
        "colab": {
          "base_uri": "https://localhost:8080/",
          "height": 320
        },
        "outputId": "bf12c5ec-078f-4c47-ad6d-07e72aff5f2a"
      },
      "source": [
        "# Global Temperature Anomalies with respect to 1951-1980 \n",
        "# The reference period is not the same, I know.\n",
        "# https://data.giss.nasa.gov/gistemp/\n",
        "\n",
        "temp = pd.read_csv('GLB.Ts+dSST.csv', skiprows=1, usecols=range(13))\n",
        "temp = temp.iloc[98:] # From 1978\n",
        "temp = temp.set_index(['Year'])\n",
        "temp = temp.replace('***', np.nan)\n",
        "temp = temp.astype(float)\n",
        "\n",
        "temp_copy = temp.copy()\n",
        "\n",
        "plot2 = sns.heatmap(temp, annot=False, cmap='RdBu_r', center=0, vmin=-1.5, vmax=1.5,\n",
        "                    cbar_kws={'label': 'ºC'})\n",
        "plt.title('Global Temperature Anomalies', fontsize = 18)\n",
        "plt.xlabel('Months', fontsize = 14) \n",
        "plt.ylabel('Years', fontsize = 14) "
      ],
      "execution_count": null,
      "outputs": [
        {
          "output_type": "execute_result",
          "data": {
            "text/plain": [
              "Text(33.0, 0.5, 'Years')"
            ]
          },
          "metadata": {
            "tags": []
          },
          "execution_count": 6
        },
        {
          "output_type": "display_data",
          "data": {
            "image/png": "[encoded data removed]",
            "text/plain": [
              "<Figure size 432x288 with 2 Axes>"
            ]
          },
          "metadata": {
            "tags": [],
            "needs_background": "light"
          }
        }
      ]
    },
    {
      "cell_type": "code",
      "metadata": {
        "id": "WCZwAVkjROYS",
        "colab_type": "code",
        "colab": {
          "base_uri": "https://localhost:8080/",
          "height": 466
        },
        "outputId": "3a853c81-2fa9-4aff-f686-c409d5ca1f32"
      },
      "source": [
        "# Plot the two figures together\n",
        "plt.figure(figsize=(15,7))\n",
        "ax1 = plt.subplot(1, 2, 1)\n",
        "plot_1 = sns.heatmap(temp, annot=False, cmap='RdBu_r', center=0, vmin=-1.5, vmax=1.5,\n",
        "                    cbar_kws={'label': 'ºC'},xticklabels=month_lst, yticklabels = years,)\n",
        "for ind, label in enumerate(plot_1.get_yticklabels()):\n",
        "    if ind % 2 == 0:  # every 2nd label is kept\n",
        "        label.set_visible(True)\n",
        "    else:\n",
        "        label.set_visible(False)\n",
        "plt.title('Global Temperature Anomalies', fontsize = 18)\n",
        "plt.xlabel('Months', fontsize = 14) \n",
        "plt.ylabel('Years', fontsize = 14) \n",
        "ax2 = plt.subplot(1, 2, 2)\n",
        "plot_2 = sns.heatmap(anomalies, annot=False, cmap='RdBu', cbar_kws={'label': 'Million sq km'},\n",
        "            xticklabels=month_lst, yticklabels = years, center=0, vmin=-3, vmax=3)\n",
        "for ind, label in enumerate(plot_2.get_yticklabels()):\n",
        "    if ind % 2 == 0: \n",
        "        label.set_visible(True)\n",
        "    else:\n",
        "        label.set_visible(False)\n",
        "\n",
        "plt.title('Arctic Sea Ice Extent Anomalies', fontsize = 18)\n",
        "plt.xlabel('Months', fontsize = 14) \n",
        "plt.ylabel('Years', fontsize = 14) \n",
        "plt.savefig('anomaly_comparison.png')"
      ],
      "execution_count": null,
      "outputs": [
        {
          "output_type": "display_data",
          "data": {
            "image/png": "[encoded data removed]",
            "text/plain": [
              "<Figure size 1080x504 with 4 Axes>"
            ]
          },
          "metadata": {
            "tags": [],
            "needs_background": "light"
          }
        }
      ]
    },
    {
      "cell_type": "code",
      "metadata": {
        "id": "bbTPkufxtT8f",
        "colab_type": "code",
        "colab": {
          "base_uri": "https://localhost:8080/",
          "height": 238
        },
        "outputId": "7efd76b2-ab2f-499e-c6a1-66ef87b21697"
      },
      "source": [
        "# Monthly Correlation between anomalies\n",
        "\n",
        "ano = pd.DataFrame(anomalies, columns=month_lst)\n",
        "ano.index = years\n",
        "\n",
        "ano3 = ano.dropna() # Drop first and last rows\n",
        "temp2 = temp_copy.dropna()\n",
        "temp2 = temp2.iloc[1:]\n",
        "# correlation = temp2['Jan'].corr(ano3['Jan']) #temp['Jan'].corr(ano['Jan'])\n",
        "j = ano3.corrwith(temp2)#, drop = True, axis=0)\n",
        "j #I obtain only NaN, but I don't know why"
      ],
      "execution_count": null,
      "outputs": [
        {
          "output_type": "execute_result",
          "data": {
            "text/plain": [
              "Jan   NaN\n",
              "Feb   NaN\n",
              "Mar   NaN\n",
              "Apr   NaN\n",
              "May   NaN\n",
              "Jun   NaN\n",
              "Jul   NaN\n",
              "Aug   NaN\n",
              "Sep   NaN\n",
              "Oct   NaN\n",
              "Nov   NaN\n",
              "Dec   NaN\n",
              "dtype: float64"
            ]
          },
          "metadata": {
            "tags": []
          },
          "execution_count": 10
        }
      ]
    },
    {
      "cell_type": "code",
      "metadata": {
        "id": "qV4AwD_CPGNJ",
        "colab_type": "code",
        "colab": {
          "base_uri": "https://localhost:8080/",
          "height": 306
        },
        "outputId": "39c0ff2d-66e4-4caf-d9c3-fab3be2541a0"
      },
      "source": [
        "df = pd.DataFrame(np.random.randint(0,100,size=(100, 4)), columns=list('ABCD'))\n",
        "df2 = pd.DataFrame(np.random.randint(0,333,size=(100, 4)), columns=list('ABCD'))\n",
        "print(df.head())\n",
        "print(df2.head())\n",
        "corr = df.corrwith(df2)\n",
        "corr"
      ],
      "execution_count": null,
      "outputs": [
        {
          "output_type": "stream",
          "text": [
            "    A   B   C   D\n",
            "0  65  25  72  20\n",
            "1  28  22  90  37\n",
            "2  67  13  53  31\n",
            "3  65  92  68  74\n",
            "4  77  25   1  58\n",
            "     A    B    C    D\n",
            "0  137  305  190  226\n",
            "1   57   12  114  190\n",
            "2  203  249  308  314\n",
            "3   64    8  147  216\n",
            "4   52   90  315  131\n"
          ],
          "name": "stdout"
        },
        {
          "output_type": "execute_result",
          "data": {
            "text/plain": [
              "A   -0.213486\n",
              "B   -0.084147\n",
              "C    0.057495\n",
              "D    0.121475\n",
              "dtype: float64"
            ]
          },
          "metadata": {
            "tags": []
          },
          "execution_count": 11
        }
      ]
    }
  ]
}